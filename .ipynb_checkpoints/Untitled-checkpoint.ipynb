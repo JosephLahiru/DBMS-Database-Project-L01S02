{
 "cells": [
  {
   "cell_type": "code",
   "execution_count": 34,
   "metadata": {},
   "outputs": [],
   "source": [
    "import random as r"
   ]
  },
  {
   "cell_type": "code",
   "execution_count": 35,
   "metadata": {},
   "outputs": [],
   "source": [
    "COUNT = 10\n",
    "LECS = [\"ICT1113\", \"ICT1123\", \"ICT1133\", \"ICT1143\", \"ICT1213\", \"ICT1232\"]"
   ]
  },
  {
   "cell_type": "code",
   "execution_count": 36,
   "metadata": {},
   "outputs": [
    {
     "name": "stdout",
     "output_type": "stream",
     "text": [
      "(\"TG/2019/400\", \"ICT1232\", 49.72, 59.39, 66.61, 61.97),(\"TG/2019/401\", \"ICT1232\", 49.51, 55.77, 48.33, 72.64),(\"TG/2019/402\", \"ICT1232\", 56.91, 52.54, 58.21, 70.79),(\"TG/2019/403\", \"ICT1232\", 33.6, 55.61, 56.96, 61.52),(\"TG/2019/404\", \"ICT1232\", 50.2, 51.97, 72.47, 73.75),(\"TG/2019/405\", \"ICT1232\", 46.28, 50.6, 64.33, 66.82),(\"TG/2019/406\", \"ICT1232\", 52.57, 50.28, 51.47, 68.19),(\"TG/2019/407\", \"ICT1232\", 53.88, 45.24, 64.9, 69.43),(\"TG/2019/408\", \"ICT1232\", 50.35, 47.15, 77.23, 79.15),(\"TG/2019/409\", \"ICT1232\", 32.82, 59.68, 52.38, 66.65),"
     ]
    }
   ],
   "source": [
    "for i in range(COUNT):\n",
    "    print(f'(\"TG/2019/{400+i}\", \"ICT1232\", {round(r.uniform(30.0, 60.0), 2)}, {round(r.uniform(40.0, 60.0), 2)}, {round(r.uniform(45.0, 90.0), 2)}, {round(r.uniform(60.0, 80.0), 2)}),', end=\"\")"
   ]
  },
  {
   "cell_type": "code",
   "execution_count": null,
   "metadata": {},
   "outputs": [],
   "source": []
  }
 ],
 "metadata": {
  "kernelspec": {
   "display_name": "Python 3",
   "language": "python",
   "name": "python3"
  },
  "language_info": {
   "codemirror_mode": {
    "name": "ipython",
    "version": 3
   },
   "file_extension": ".py",
   "mimetype": "text/x-python",
   "name": "python",
   "nbconvert_exporter": "python",
   "pygments_lexer": "ipython3",
   "version": "3.8.5"
  }
 },
 "nbformat": 4,
 "nbformat_minor": 4
}
